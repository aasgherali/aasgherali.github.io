{
 "cells": [
  {
   "cell_type": "markdown",
   "metadata": {},
   "source": [
    "# Math 152 Lab 4: Numerical Integration\n",
    "Name: Hamad Abdurrehman Alyafei\n",
    "\n",
    "In this lab, we explore ways to approximate definite integrals which cannot be integrated using the Fundamental Theorem of Calculus. Use Python to solve each problem. "
   ]
  },
  {
   "cell_type": "markdown",
   "metadata": {},
   "source": [
    "## Importing Packages"
   ]
  },
  {
   "cell_type": "code",
   "execution_count": 1,
   "metadata": {},
   "outputs": [],
   "source": [
    "from numpy import *\n",
    "from scipy.integrate import trapz\n",
    "import numpy as np\n",
    "import matplotlib.pyplot as plt\n",
    "import sympy as sp\n",
    "import scipy as sci "
   ]
  },
  {
   "cell_type": "markdown",
   "metadata": {},
   "source": [
    "## Problem 01"
   ]
  },
  {
   "cell_type": "markdown",
   "metadata": {},
   "source": [
    "Given the integral $\\int_0^{\\frac{\\pi}{2}} \\sqrt[3]{1+\\cos(x)}dx$\n",
    "\n",
    "* Plot the function on the domain $x \\in \\left[0,\\dfrac{\\pi}{2}\\right]$.\\\n",
    "Recall the Left Endpoint Riemann Sum from $151$: \\\n",
    "$$\\int_a^bf(x)dx \\approx \\sum_{i=1}^{n}f(x_{i-1})\\Delta x$$\n",
    "where $\\Delta x  = \\frac{b-a}{n}$ and $x_{i}=a+i  \\Delta x$. This is easy to compute in python:\n",
    "* Define a list $x$ from a (inclusive) to $b$ (exclusive) with stepsize $\\Delta x$ \n",
    "* Define a list $y = f (x)$.\n",
    "* Sum the list $y$ and multiply by $\\Delta x$.\n",
    "* Compute the Left Endpoint approximation using n = 100 subintervals."
   ]
  },
  {
   "cell_type": "code",
   "execution_count": 2,
   "metadata": {},
   "outputs": [],
   "source": [
    "def integrand(x):\n",
    "    result = np.cbrt(1+np.cos(x))\n",
    "    return result "
   ]
  },
  {
   "cell_type": "code",
   "execution_count": 3,
   "metadata": {},
   "outputs": [
    {
     "data": {
      "text/plain": [
       "<function __main__.integrand(x)>"
      ]
     },
     "execution_count": 3,
     "metadata": {},
     "output_type": "execute_result"
    }
   ],
   "source": [
    "integrand"
   ]
  },
  {
   "cell_type": "code",
   "execution_count": 4,
   "metadata": {},
   "outputs": [
    {
     "data": {
      "image/png": "[encoded data removed]",
      "text/plain": [
       "<Figure size 640x480 with 1 Axes>"
      ]
     },
     "metadata": {},
     "output_type": "display_data"
    },
    {
     "data": {
      "text/plain": [
       "<sympy.plotting.plot.Plot at 0x7fd94807dd50>"
      ]
     },
     "execution_count": 4,
     "metadata": {},
     "output_type": "execute_result"
    }
   ],
   "source": [
    "a = 0\n",
    "b = np.pi/2\n",
    "n = 100\n",
    "x = sp.symbols('x')\n",
    "f = (1+sp.cos(x))**(1/3)\n",
    "sp.plot(f,(x,a,b))\n"
   ]
  },
  {
   "cell_type": "code",
   "execution_count": 5,
   "metadata": {},
   "outputs": [
    {
     "name": "stdout",
     "output_type": "stream",
     "text": [
      "The left end point approximation is 1.8452842494259876\n"
     ]
    }
   ],
   "source": [
    "dx = (b-a)/n\n",
    "xleft = np.zeros(n)\n",
    "for i in range(0,n):\n",
    "    xleft[i] = a + i*dx\n",
    "    \n",
    "yleft = integrand(xleft)\n",
    "LR = sum(yleft)*dx\n",
    "print('The left end point approximation is',LR)"
   ]
  },
  {
   "cell_type": "markdown",
   "metadata": {},
   "source": [
    "## Problem 02 \n",
    "The Right End Point Riemann Sum is the same process, but starting at $a+\\Delta x$ and ending at $b$ (inclusive). Compute the Right End Point approximation using $n=100$ subintervals. \n"
   ]
  },
  {
   "cell_type": "code",
   "execution_count": 6,
   "metadata": {},
   "outputs": [
    {
     "name": "stdout",
     "output_type": "stream",
     "text": [
      "The right-endpoint approximationis 1.8412014191216723\n"
     ]
    }
   ],
   "source": [
    "xright = arange(a+dx,b+dx,dx)\n",
    "yright = integrand(xright)\n",
    "RL = sum(yright)*dx\n",
    "print('The right-endpoint approximationis',RL)"
   ]
  },
  {
   "cell_type": "markdown",
   "metadata": {},
   "source": [
    "## Problem 03\n",
    "The Midpoint Sum is again the same process, but starting at $a + \\frac{\\Delta x}{2}$ and ending at $b − \\frac{\\Delta x}{2}$ (inclusive).\n",
    "\n",
    "* Compute the Midpoint approximation using $n = 100$ subintervals.\n",
    "* Compute the average of the Left and Right Endpoint approximations. Is this equal to the Midpoint approximation?"
   ]
  },
  {
   "cell_type": "code",
   "execution_count": 7,
   "metadata": {},
   "outputs": [
    {
     "name": "stdout",
     "output_type": "stream",
     "text": [
      "The Mid point sum is 1.827504136100208\n"
     ]
    }
   ],
   "source": [
    "xmidPt = arange(a+dx/2,b-dx/2,dx)\n",
    "ymidPt = integrand(xmidPt)\n",
    "MP = sum(ymidPt)*dx\n",
    "print(\"The Mid point sum is\", MP)"
   ]
  },
  {
   "cell_type": "code",
   "execution_count": 8,
   "metadata": {},
   "outputs": [
    {
     "name": "stdout",
     "output_type": "stream",
     "text": [
      "The average of the Left and Right End point approximations is 1.84324283427383\n"
     ]
    }
   ],
   "source": [
    "Avg = (LR+RL)/2\n",
    "print(\"The average of the Left and Right End point approximations is\", Avg)"
   ]
  },
  {
   "cell_type": "markdown",
   "metadata": {},
   "source": [
    "**The average of left and right end point approximations is equal to the Mid point sum upto three decimal places.** "
   ]
  },
  {
   "cell_type": "markdown",
   "metadata": {},
   "source": [
    "## Problem 04"
   ]
  },
  {
   "cell_type": "markdown",
   "metadata": {},
   "source": [
    "Another approximation for integrals is the Trapezoid Rule:\\\n",
    "$$\\int_a^bf(x)dx \\approx \\frac{\\Delta x}{2} \\bigg[f(x_0)+2f(x_1)+2f(x_2)+ \\cdots 2f(x_{n-2})+2f(x_{n-1})+f(x_{n})\\bigg]$$\n",
    "There is a built-in function **trapz** in the package **scipy.integrate** (refer to the Overview for\n",
    "importing and using this and the next command).\n",
    "\n",
    "* Compute the Trapezoid approximation using $n = 100$ subintervals.\n",
    "* Is the Trapezoid approximation equal to the average of the Left and Right End point approximations?\n",
    "* Run the following code to illustrate the trapezoid method with 4 trapezoids (make sure you imported sympy as sp as stated in the Overview):"
   ]
  },
  {
   "cell_type": "code",
   "execution_count": 9,
   "metadata": {},
   "outputs": [
    {
     "name": "stdout",
     "output_type": "stream",
     "text": [
      "The Trapezoid approximation is: 1.84324283427383\n"
     ]
    }
   ],
   "source": [
    "xtrapz = arange(a,b+dx,dx)\n",
    "ytrapz = integrand(xtrapz)\n",
    "result = sci.integrate.trapz(ytrapz,xtrapz)\n",
    "print(\"The Trapezoid approximation is:\", result)"
   ]
  },
  {
   "cell_type": "code",
   "execution_count": 10,
   "metadata": {},
   "outputs": [
    {
     "name": "stdout",
     "output_type": "stream",
     "text": [
      "The Trapezoid approximation is equal to the average of Left and Right End point approximation and is 1.84324283427383\n"
     ]
    }
   ],
   "source": [
    "Avg2 = (LR + RL)/2\n",
    "print(\"The Trapezoid approximation is equal to the average of Left and Right End point approximation and is\", Avg2)"
   ]
  },
  {
   "cell_type": "code",
   "execution_count": 11,
   "metadata": {},
   "outputs": [
    {
     "data": {
      "image/png": "[encoded data removed]",
      "text/plain": [
       "<Figure size 640x480 with 1 Axes>"
      ]
     },
     "metadata": {},
     "output_type": "display_data"
    },
    {
     "data": {
      "text/plain": [
       "<sympy.plotting.plot.Plot at 0x7fd947bbcc10>"
      ]
     },
     "execution_count": 11,
     "metadata": {},
     "output_type": "execute_result"
    }
   ],
   "source": [
    "x = sp.symbols('x')\n",
    "f = (1+sp.cos(x))**(1/3)\n",
    "sp.plot(f,(x,0,np.pi/2))"
   ]
  },
  {
   "cell_type": "code",
   "execution_count": 12,
   "metadata": {},
   "outputs": [
    {
     "data": {
      "text/plain": [
       "[<matplotlib.lines.Line2D at 0x7fd9479aff50>]"
      ]
     },
     "execution_count": 12,
     "metadata": {},
     "output_type": "execute_result"
    },
    {
     "data": {
      "image/png": "[encoded data removed]",
      "text/plain": [
       "<Figure size 640x480 with 1 Axes>"
      ]
     },
     "metadata": {},
     "output_type": "display_data"
    }
   ],
   "source": [
    "xp =[0,np.pi/8,np.pi/4,3*np.pi/8,np.pi/2]\n",
    "yp=[f.subs({x:i}) for i in xp]\n",
    "plt.plot(xp,yp)"
   ]
  },
  {
   "cell_type": "markdown",
   "metadata": {},
   "source": [
    "## Problem 05\n",
    "**Simpson’s Method** is another approximation to the integral which uses parabolas instead\n",
    "of lines to approximate $f (x)$:\n",
    "$$\\int_a^bf(x)dx \\approx \\frac{\\Delta x}{3} \\bigg[f(x_0)+2f(x_1)+4f(x_2)+ 2f(x_3)+4f(x_4)+\\cdots +4f(x_{n-2})+2f(x_{n-1})+f(x_{n})\\bigg]$$ \n",
    "\n",
    "* Use the function **simps** in the **scipy.integrate** package to compute Simpson’s Approximation using $n = 100$ subintervals.\n",
    "* The value of the integral to $14$ decimal places is $1.84324968816264$. Use this value to estimate the error $|\\text{actual} − \\text{estimate}|$ in each of the five approximations"
   ]
  },
  {
   "cell_type": "code",
   "execution_count": 13,
   "metadata": {},
   "outputs": [
    {
     "name": "stdout",
     "output_type": "stream",
     "text": [
      "The Simpson Rule approximation is 1.8432496881501192\n"
     ]
    }
   ],
   "source": [
    "SimpsResult = sci.integrate.simps(ytrapz,xtrapz)\n",
    "print(\"The Simpson Rule approximation is\", SimpsResult)"
   ]
  },
  {
   "cell_type": "code",
   "execution_count": 14,
   "metadata": {},
   "outputs": [
    {
     "name": "stdout",
     "output_type": "stream",
     "text": [
      "Absolute error in Right End point Approximation is 0.002048269040967554\n",
      "Absolute error for Left End point Approximation is 0.0020345612633476673\n",
      "Absolute error for Mid Point Rule is 0.01574555206243189\n",
      "Absolute error for Trapezoid Rule is 6.853888809832398e-06\n",
      "Absolute error for Simpson's Rule is 1.2520651182512665e-11\n"
     ]
    }
   ],
   "source": [
    "actual  = 1.84324968816264\n",
    "print(\"Absolute error in Right End point Approximation is\", abs(actual-RL))\n",
    "print(\"Absolute error for Left End point Approximation is\", abs(actual-LR))\n",
    "print(\"Absolute error for Mid Point Rule is\", abs(actual-MP))\n",
    "print(\"Absolute error for Trapezoid Rule is\", abs(actual-result))\n",
    "print(\"Absolute error for Simpson's Rule is\", abs(actual-SimpsResult))"
   ]
  }
 ],
 "metadata": {
  "kernelspec": {
   "display_name": "Python 3 (ipykernel)",
   "language": "python",
   "name": "python3"
  },
  "language_info": {
   "codemirror_mode": {
    "name": "ipython",
    "version": 3
   },
   "file_extension": ".py",
   "mimetype": "text/x-python",
   "name": "python",
   "nbconvert_exporter": "python",
   "pygments_lexer": "ipython3",
   "version": "3.11.3"
  }
 },
 "nbformat": 4,
 "nbformat_minor": 4
}
